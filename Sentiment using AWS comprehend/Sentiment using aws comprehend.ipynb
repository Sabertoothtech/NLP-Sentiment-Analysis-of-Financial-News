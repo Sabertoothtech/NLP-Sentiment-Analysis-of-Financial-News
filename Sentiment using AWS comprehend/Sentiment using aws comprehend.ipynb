{
 "cells": [
  {
   "cell_type": "markdown",
   "metadata": {},
   "source": [
    "# Sentiment analysis using amazon comprehend\n",
    "\n",
    "### Setup\n",
    "You have to install boto3 and awscli using the commands\n",
    "```\n",
    "pip install boto3 \n",
    "pip install awscli\n",
    "```\n",
    "\n",
    "Now configure the public key and private key of your AWS account. Click [here](https://docs.aws.amazon.com/cli/latest/userguide/cli-chap-getting-started.html#cli-quick-configuration) for more information."
   ]
  },
  {
   "cell_type": "code",
   "execution_count": 1,
   "metadata": {},
   "outputs": [
    {
     "name": "stdout",
     "output_type": "stream",
     "text": [
      "Calling DetectSentiment\n",
      "\n",
      "Positive::0.006691425573080778\n",
      "Negative::0.01008480042219162\n",
      "Neutral::0.9823989272117615\n",
      "Mixed::0.0008247770019806921\n",
      "neutral\n",
      "\n",
      "End of DetectSentiment\n",
      "\n"
     ]
    }
   ],
   "source": [
    "import boto3\n",
    "import json\n",
    "\n",
    "comprehend = boto3.client(service_name='comprehend', region_name='us-east-1')\n",
    "                \n",
    "text = \"\"\"Idea Cellular soars, CCI okays merger with Vodafone\"\"\"\n",
    "print('Calling DetectSentiment')\n",
    "print()\n",
    "data = comprehend.detect_sentiment(Text=text, LanguageCode='en')\n",
    "print(\"Positive::\" + str(data[\"SentimentScore\"]['Positive']))\n",
    "print(\"Negative::\" + str(data[\"SentimentScore\"]['Negative']))\n",
    "print(\"Neutral::\"+str(data[\"SentimentScore\"]['Neutral']))\n",
    "print(\"Mixed::\"+str(data[\"SentimentScore\"]['Mixed']))\n",
    "\n",
    "appMixed = int(round(data[\"SentimentScore\"]['Mixed'],2)*100)\n",
    "appPositive = int(round(data[\"SentimentScore\"]['Positive'],2)*100)\n",
    "appNegative = int(round(data[\"SentimentScore\"]['Negative'],2)*100)\n",
    "appNeutral = int(round(data[\"SentimentScore\"]['Neutral'],2)*100)\n",
    "\n",
    "tag = \"\"\n",
    "if appNeutral < 98:\n",
    "    if appMixed > 0 and appMixed > appPositive and appMixed > appNegative:\n",
    "        tag = \"mixed\"\n",
    "    elif appPositive>0 and appPositive > appNegative and appPositive > appMixed:\n",
    "        tag = \"positive\"\n",
    "    elif appNegative>0 and appPositive < appNegative and appNegative > appMixed:\n",
    "        tag = \"negative\"\n",
    "else:\n",
    "    tag = \"neutral\"\n",
    "print (tag)\n",
    "print('\\nEnd of DetectSentiment\\n')\n",
    "\n",
    "\n",
    "\n"
   ]
  },
  {
   "cell_type": "code",
   "execution_count": null,
   "metadata": {},
   "outputs": [],
   "source": []
  }
 ],
 "metadata": {
  "kernelspec": {
   "display_name": "Python 3",
   "language": "python",
   "name": "python3"
  },
  "language_info": {
   "codemirror_mode": {
    "name": "ipython",
    "version": 3
   },
   "file_extension": ".py",
   "mimetype": "text/x-python",
   "name": "python",
   "nbconvert_exporter": "python",
   "pygments_lexer": "ipython3",
   "version": "3.6.4"
  }
 },
 "nbformat": 4,
 "nbformat_minor": 2
}
